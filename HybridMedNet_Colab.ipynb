{
    "cells": [
        {
            "cell_type": "markdown",
            "metadata": {},
            "source": [
                "# HybridMedNet - 医学影像深度学习诊断框架\n",
                "\n",
                "[![Open In Colab](https://colab.research.google.com/assets/colab-badge.svg)](https://colab.research.google.com/github/alltobebetter/HybridMedNet/blob/main/HybridMedNet_Colab.ipynb)\n",
                "\n",
                "这个 notebook 可以让你在 Google Colab 上快速开始使用 HybridMedNet 进行医学影像诊断。"
            ]
        },
        {
            "cell_type": "markdown",
            "metadata": {},
            "source": [
                "## 1. 环境设置\n",
                "\n",
                "首先检查 GPU 是否可用，并克隆项目代码。"
            ]
        },
        {
            "cell_type": "code",
            "execution_count": null,
            "metadata": {},
            "outputs": [],
            "source": [
                "# 检查 GPU\n",
                "!nvidia-smi\n",
                "\n",
                "import torch\n",
                "print(f\"PyTorch version: {torch.__version__}\")\n",
                "print(f\"CUDA available: {torch.cuda.is_available()}\")\n",
                "if torch.cuda.is_available():\n",
                "    print(f\"CUDA version: {torch.version.cuda}\")\n",
                "    print(f\"GPU: {torch.cuda.get_device_name(0)}\")"
            ]
        },
        {
            "cell_type": "code",
            "execution_count": null,
            "metadata": {},
            "outputs": [],
            "source": [
                "# 克隆项目\n",
                "import os\n",
                "if not os.path.exists('HybridMedNet'):\n",
                "    !git clone https://github.com/alltobebetter/HybridMedNet.git\n",
                "    print(\"[OK] 项目克隆完成\")\n",
                "else:\n",
                "    print(\"[OK] 项目已存在\")\n",
                "\n",
                "%cd HybridMedNet"
            ]
        },
        {
            "cell_type": "markdown",
            "metadata": {},
            "source": [
                "## 2. 安装依赖\n",
                "\n",
                "安装所需的 Python 包。"
            ]
        },
        {
            "cell_type": "code",
            "execution_count": null,
            "metadata": {},
            "outputs": [],
            "source": [
                "# 安装核心依赖\n",
                "!pip install -q torch torchvision torchaudio\n",
                "!pip install -q timm albumentations grad-cam einops\n",
                "!pip install -q pandas matplotlib seaborn scikit-learn tqdm tensorboard\n",
                "!pip install -q opencv-python pillow\n",
                "\n",
                "# 可选：医学影像处理库\n",
                "!pip install -q nibabel pydicom SimpleITK\n",
                "\n",
                "print(\"[OK] 依赖安装完成\")"
            ]
        },
        {
            "cell_type": "markdown",
            "metadata": {},
            "source": [
                "## 3. 验证安装\n",
                "\n",
                "确保所有模块都能正常导入。"
            ]
        },
        {
            "cell_type": "code",
            "execution_count": null,
            "metadata": {},
            "outputs": [],
            "source": [
                "# 验证导入\n",
                "import sys\n",
                "import os\n",
                "\n",
                "# 如果需要，添加项目路径\n",
                "# sys.path.append('/content/HybridMedNet')\n",
                "\n",
                "try:\n",
                "    from models.hybrid_med_net import HybridMedNet\n",
                "    from configs.default_config import Config\n",
                "    from utils.metrics import calculate_metrics\n",
                "    from utils.visualization import plot_training_curves\n",
                "    from data.chest_xray_dataset import ChestXrayDataset, create_sample_dataset\n",
                "    from data.transforms import get_train_transforms, get_val_transforms\n",
                "    print(\"[OK] 所有模块导入成功\")\n",
                "except ImportError as e:\n",
                "    print(f\"[ERROR] 导入错误: {e}\")\n",
                "    print(\"请确保项目文件已正确上传到 Colab\")"
            ]
        },
        {
            "cell_type": "markdown",
            "metadata": {},
            "source": [
                "## 4. 快速开始 - 使用示例数据\n",
                "\n",
                "### 4.0 设置项目路径"
            ]
        },
        {
            "cell_type": "code",
            "execution_count": null,
            "metadata": {},
            "outputs": [],
            "source": [
                "# 确保 Python 能找到项目模块\n",
                "import sys\n",
                "import os\n",
                "\n",
                "# 获取当前工作目录\n",
                "current_dir = os.getcwd()\n",
                "print(f\"当前目录: {current_dir}\")\n",
                "\n",
                "# 添加项目根目录到 Python 路径\n",
                "if current_dir not in sys.path:\n",
                "    sys.path.insert(0, current_dir)\n",
                "    print(f\"[OK] 已添加项目路径\")\n",
                "\n",
                "# 验证目录结构\n",
                "print(\"\\n项目结构:\")\n",
                "!ls -l"
            ]
        },
        {
            "cell_type": "markdown",
            "metadata": {},
            "source": [
                "### 4.1 创建示例数据集"
            ]
        },
        {
            "cell_type": "code",
            "execution_count": null,
            "metadata": {},
            "outputs": [],
            "source": [
                "# 创建示例数据集\n",
                "from data.chest_xray_dataset import create_sample_dataset\n",
                "\n",
                "print(\"正在创建示例数据集...\")\n",
                "data_dir = './data/sample_chest_xray'\n",
                "labels_file = create_sample_dataset(data_dir, num_samples=200)\n",
                "print(f\"[OK] 示例数据集已创建: {data_dir}\")"
            ]
        },
        {
            "cell_type": "markdown",
            "metadata": {},
            "source": [
                "### 4.2 配置模型"
            ]
        },
        {
            "cell_type": "code",
            "execution_count": null,
            "metadata": {},
            "outputs": [],
            "source": [
                "# 配置模型（针对 Colab 优化）\n",
                "from configs.default_config import Config\n",
                "\n",
                "config = Config()\n",
                "\n",
                "# Colab 优化配置\n",
                "config.TRAIN['batch_size'] = 16  # 减小 batch size 避免 OOM\n",
                "config.TRAIN['epochs'] = 10      # 快速演示用较少 epoch\n",
                "config.TRAIN['mixed_precision'] = True  # 使用混合精度训练\n",
                "config.DATA['num_workers'] = 2   # Colab 上减少 workers\n",
                "\n",
                "# 可以选择不同的 backbone\n",
                "# config.MODEL['backbone'] = 'resnet50'  # 经典架构，更快\n",
                "config.MODEL['backbone'] = 'convnext_base'  # 现代架构，更准确\n",
                "\n",
                "print(\"配置信息：\")\n",
                "print(f\"  Backbone: {config.MODEL['backbone']}\")\n",
                "print(f\"  Batch size: {config.TRAIN['batch_size']}\")\n",
                "print(f\"  Epochs: {config.TRAIN['epochs']}\")\n",
                "print(f\"  Learning rate: {config.TRAIN['learning_rate']}\")"
            ]
        },
        {
            "cell_type": "markdown",
            "metadata": {},
            "source": [
                "### 4.3 训练模型（一键运行版本）"
            ]
        },
        {
            "cell_type": "code",
            "execution_count": null,
            "metadata": {},
            "outputs": [],
            "source": [
                "# 使用 train.py 脚本训练\n",
                "print(\"开始训练...\\n\")\n",
                "\n",
                "# 直接运行 train.py\n",
                "!python train.py\n",
                "\n",
                "print(\"\\n[OK] 训练完成\")\n",
                "print(\"模型已保存到: checkpoints/best_model.pth\")"
            ]
        },
        {
            "cell_type": "markdown",
            "metadata": {},
            "source": [
                "### 4.3.1 或者在 Notebook 中训练（高级用户）"
            ]
        },
        {
            "cell_type": "code",
            "execution_count": null,
            "metadata": {},
            "outputs": [],
            "source": [
                "# 如果你想在 notebook 中直接训练，需要先确保 data 模块存在\n",
                "# 由于 data 模块文件不在 GitHub 中，建议使用上面的 train.py 方式\n",
                "\n",
                "# 以下代码仅供参考（需要 data 模块）\n",
                "'''\n",
                "import torch\n",
                "import torch.nn as nn\n",
                "from torch.utils.data import DataLoader\n",
                "from tqdm.notebook import tqdm\n",
                "from models.hybrid_med_net import HybridMedNet\n",
                "from data.chest_xray_dataset import ChestXrayDataset\n",
                "from data.transforms import get_train_transforms, get_val_transforms\n",
                "\n",
                "# 创建数据集\n",
                "train_dataset = ChestXrayDataset(\n",
                "    data_dir=config.DATA['data_dir'],\n",
                "    labels_file=config.DATA['labels_file'],\n",
                "    transform=get_train_transforms(config.DATA['image_size']),\n",
                "    split='train'\n",
                ")\n",
                "\n",
                "val_dataset = ChestXrayDataset(\n",
                "    data_dir=config.DATA['data_dir'],\n",
                "    labels_file=config.DATA['labels_file'],\n",
                "    transform=get_val_transforms(config.DATA['image_size']),\n",
                "    split='val'\n",
                ")\n",
                "\n",
                "train_loader = DataLoader(\n",
                "    train_dataset,\n",
                "    batch_size=config.TRAIN['batch_size'],\n",
                "    shuffle=True,\n",
                "    num_workers=config.DATA['num_workers']\n",
                ")\n",
                "\n",
                "val_loader = DataLoader(\n",
                "    val_dataset,\n",
                "    batch_size=config.TRAIN['batch_size'],\n",
                "    shuffle=False,\n",
                "    num_workers=config.DATA['num_workers']\n",
                ")\n",
                "\n",
                "# ... 训练代码 ...\n",
                "'''\n",
                "\n",
                "print(\"[INFO] 建议使用上面的 train.py 方式进行训练\")"
            ]
        },
        {
            "cell_type": "markdown",
            "metadata": {},
            "source": [
                "### 4.4 可视化训练过程"
            ]
        },
        {
            "cell_type": "code",
            "execution_count": null,
            "metadata": {},
            "outputs": [],
            "source": [
                "import matplotlib.pyplot as plt\n",
                "\n",
                "plt.figure(figsize=(10, 5))\n",
                "plt.plot(train_losses, label='Train Loss')\n",
                "plt.plot(val_losses, label='Val Loss')\n",
                "plt.xlabel('Epoch')\n",
                "plt.ylabel('Loss')\n",
                "plt.title('Training and Validation Loss')\n",
                "plt.legend()\n",
                "plt.grid(True)\n",
                "plt.show()"
            ]
        },
        {
            "cell_type": "markdown",
            "metadata": {},
            "source": [
                "## 5. 评估模型"
            ]
        },
        {
            "cell_type": "code",
            "execution_count": null,
            "metadata": {},
            "outputs": [],
            "source": [
                "# 评估模型\n",
                "!python evaluate.py --model_path best_model.pth --save_results"
            ]
        },
        {
            "cell_type": "markdown",
            "metadata": {},
            "source": [
                "或者在 notebook 中评估："
            ]
        },
        {
            "cell_type": "code",
            "execution_count": null,
            "metadata": {},
            "outputs": [],
            "source": [
                "from utils.metrics import calculate_metrics\n",
                "from sklearn.metrics import roc_auc_score, roc_curve\n",
                "import numpy as np\n",
                "\n",
                "# 加载最佳模型\n",
                "model.load_state_dict(torch.load('best_model.pth'))\n",
                "model.eval()\n",
                "\n",
                "# 收集预测结果\n",
                "all_preds = []\n",
                "all_labels = []\n",
                "\n",
                "with torch.no_grad():\n",
                "    for images, labels in tqdm(val_loader, desc=\"Evaluating\"):\n",
                "        images = images.to(device)\n",
                "        outputs = model(images)\n",
                "        preds = torch.sigmoid(outputs).cpu().numpy()\n",
                "        \n",
                "        all_preds.append(preds)\n",
                "        all_labels.append(labels.numpy())\n",
                "\n",
                "all_preds = np.vstack(all_preds)\n",
                "all_labels = np.vstack(all_labels)\n",
                "\n",
                "# 计算指标（转换为二值预测）\n",
                "all_preds_binary = (all_preds > 0.5).astype(int)\n",
                "metrics = calculate_metrics(all_labels, all_preds_binary, all_preds)\n",
                "\n",
                "print(\"\\n评估结果:\")\n",
                "print(f\"准确率: {metrics['accuracy']:.4f}\")\n",
                "print(f\"精确率: {metrics['precision']:.4f}\")\n",
                "print(f\"召回率: {metrics['recall']:.4f}\")\n",
                "print(f\"F1分数: {metrics['f1']:.4f}\")\n",
                "print(f\"平均AUC: {metrics['auc']:.4f}\")"
            ]
        },
        {
            "cell_type": "markdown",
            "metadata": {},
            "source": [
                "## 6. 预测示例图像（自动运行）"
            ]
        },
        {
            "cell_type": "code",
            "execution_count": null,
            "metadata": {},
            "outputs": [],
            "source": [
                "# 使用验证集中的图像进行预测演示\n",
                "from PIL import Image\n",
                "import os\n",
                "\n",
                "# 获取几张示例图像\n",
                "sample_images = [os.path.join(config.DATA['data_dir'], f) \n",
                "                 for f in os.listdir(config.DATA['data_dir']) \n",
                "                 if f.endswith(('.jpg', '.png'))][:3]\n",
                "\n",
                "class_names = train_dataset.class_names\n",
                "\n",
                "for img_path in sample_images:\n",
                "    image = Image.open(img_path).convert('RGB')\n",
                "    \n",
                "    # 预处理\n",
                "    transform = get_val_transforms(config.DATA['image_size'])\n",
                "    image_tensor = transform(image).unsqueeze(0).to(device)\n",
                "    \n",
                "    # 预测\n",
                "    model.eval()\n",
                "    with torch.no_grad():\n",
                "        output = model(image_tensor)\n",
                "        probs = torch.sigmoid(output).cpu().numpy()[0]\n",
                "    \n",
                "    # 显示结果\n",
                "    plt.figure(figsize=(12, 4))\n",
                "    \n",
                "    # 显示图像\n",
                "    plt.subplot(1, 2, 1)\n",
                "    plt.imshow(image)\n",
                "    plt.title(f'Input: {os.path.basename(img_path)}')\n",
                "    plt.axis('off')\n",
                "    \n",
                "    # 显示预测概率\n",
                "    plt.subplot(1, 2, 2)\n",
                "    y_pos = np.arange(len(class_names))\n",
                "    plt.barh(y_pos, probs)\n",
                "    plt.yticks(y_pos, class_names)\n",
                "    plt.xlabel('Probability')\n",
                "    plt.title('Predictions')\n",
                "    plt.xlim([0, 1])\n",
                "    \n",
                "    plt.tight_layout()\n",
                "    plt.show()\n",
                "    \n",
                "    # 打印 Top-3 预测\n",
                "    top3_idx = np.argsort(probs)[-3:][::-1]\n",
                "    print(f\"\\nTop-3 预测:\")\n",
                "    for idx in top3_idx:\n",
                "        print(f\"{class_names[idx]}: {probs[idx]:.2%}\")\n",
                "    print(\"\\n\" + \"=\"*50 + \"\\n\")"
            ]
        },
        {
            "cell_type": "markdown",
            "metadata": {},
            "source": [
                "## 7. 使用真实数据集（可选 - 一键下载）\n",
                "\n",
                "### 选项 1: 胸部 X 光肺炎数据集（推荐，小而快）\n",
                "\n",
                "**数据集**: Chest X-Ray Images (Pneumonia)  \n",
                "**大小**: ~1.2 GB  \n",
                "**图像数**: 5,863 张  \n",
                "**类别**: Normal / Pneumonia  \n",
                "**来源**: Kaggle"
            ]
        },
        {
            "cell_type": "code",
            "execution_count": null,
            "metadata": {},
            "outputs": [],
            "source": [
                "# 安装下载工具\n",
                "!pip install -q gdown\n",
                "\n",
                "# 下载数据集\n",
                "print(\"正在下载胸部 X 光肺炎数据集...\")\n",
                "!mkdir -p ./data/chest_xray\n",
                "\n",
                "# 使用公开链接下载\n",
                "!wget -q --show-progress https://data.mendeley.com/public-files/datasets/rscbjbr9sj/files/f12eaf6d-6023-432f-acc9-80c9d7393433/file_downloaded -O chest_xray.zip\n",
                "\n",
                "# 解压\n",
                "print(\"\\n正在解压...\")\n",
                "!unzip -q chest_xray.zip -d ./data/chest_xray\n",
                "!rm chest_xray.zip\n",
                "\n",
                "print(\"\\n[OK] 数据集下载完成\")\n",
                "print(f\"数据位置: ./data/chest_xray/\")\n",
                "\n",
                "# 查看数据结构\n",
                "!ls -lh ./data/chest_xray/"
            ]
        },
        {
            "cell_type": "markdown",
            "metadata": {},
            "source": [
                "### 选项 2: COVID-19 胸部 X 光数据集（中等大小）\n",
                "\n",
                "**数据集**: COVID-19 Radiography Database  \n",
                "**大小**: ~1.5 GB  \n",
                "**图像数**: 21,165 张  \n",
                "**类别**: COVID / Normal / Viral Pneumonia / Lung Opacity  \n",
                "**来源**: Kaggle"
            ]
        },
        {
            "cell_type": "code",
            "execution_count": null,
            "metadata": {},
            "outputs": [],
            "source": [
                "# 下载 COVID-19 数据集\n",
                "print(\"正在下载 COVID-19 胸部 X 光数据集...\")\n",
                "!mkdir -p ./data/covid19\n",
                "\n",
                "# 使用 gdown 从 Google Drive 下载\n",
                "!gdown --id 1-HQQciKYfwAO3oH7ci5sD5NBPbxXXGs4 -O covid19.zip\n",
                "\n",
                "# 解压\n",
                "print(\"\\n正在解压...\")\n",
                "!unzip -q covid19.zip -d ./data/covid19\n",
                "!rm covid19.zip\n",
                "\n",
                "print(\"\\n[OK] COVID-19 数据集下载完成\")\n",
                "print(f\"数据位置: ./data/covid19/\")\n",
                "\n",
                "# 查看数据结构\n",
                "!ls -lh ./data/covid19/"
            ]
        },
        {
            "cell_type": "markdown",
            "metadata": {},
            "source": [
                "### 选项 3: 皮肤病变数据集 ISIC（小而快）\n",
                "\n",
                "**数据集**: ISIC 2019 Skin Lesion  \n",
                "**大小**: ~500 MB（采样版本）  \n",
                "**图像数**: 2,000+ 张  \n",
                "**类别**: 8 种皮肤病变类型  \n",
                "**来源**: ISIC Archive"
            ]
        },
        {
            "cell_type": "code",
            "execution_count": null,
            "metadata": {},
            "outputs": [],
            "source": [
                "# 下载 ISIC 皮肤病变数据集（采样版本）\n",
                "print(\"正在下载 ISIC 皮肤病变数据集...\")\n",
                "!mkdir -p ./data/isic\n",
                "\n",
                "# 从公开源下载\n",
                "!wget -q --show-progress https://isic-challenge-data.s3.amazonaws.com/2019/ISIC_2019_Training_Input.zip -O isic_images.zip\n",
                "!wget -q --show-progress https://isic-challenge-data.s3.amazonaws.com/2019/ISIC_2019_Training_GroundTruth.csv -O ./data/isic/labels.csv\n",
                "\n",
                "# 解压\n",
                "print(\"\\n正在解压...\")\n",
                "!unzip -q isic_images.zip -d ./data/isic/images\n",
                "!rm isic_images.zip\n",
                "\n",
                "print(\"\\n[OK] ISIC 数据集下载完成\")\n",
                "print(f\"数据位置: ./data/isic/\")\n",
                "\n",
                "# 查看数据\n",
                "!ls -lh ./data/isic/\n",
                "!head -5 ./data/isic/labels.csv"
            ]
        },
        {
            "cell_type": "markdown",
            "metadata": {},
            "source": [
                "### 选项 4: 脑肿瘤 MRI 数据集（最小）\n",
                "\n",
                "**数据集**: Brain Tumor MRI Dataset  \n",
                "**大小**: ~150 MB  \n",
                "**图像数**: 3,000+ 张  \n",
                "**类别**: Glioma / Meningioma / Pituitary / No Tumor  \n",
                "**来源**: Kaggle"
            ]
        },
        {
            "cell_type": "code",
            "execution_count": null,
            "metadata": {},
            "outputs": [],
            "source": [
                "# 下载脑肿瘤 MRI 数据集\n",
                "print(\"正在下载脑肿瘤 MRI 数据集...\")\n",
                "!mkdir -p ./data/brain_tumor\n",
                "\n",
                "# 使用 gdown 下载\n",
                "!gdown --id 1A2IU8Sgea1h3fYLpYtFb2v7NYdMjvEhP -O brain_tumor.zip\n",
                "\n",
                "# 解压\n",
                "print(\"\\n正在解压...\")\n",
                "!unzip -q brain_tumor.zip -d ./data/brain_tumor\n",
                "!rm brain_tumor.zip\n",
                "\n",
                "print(\"\\n[OK] 脑肿瘤数据集下载完成\")\n",
                "print(f\"数据位置: ./data/brain_tumor/\")\n",
                "\n",
                "# 查看数据结构\n",
                "!ls -lh ./data/brain_tumor/\n",
                "!find ./data/brain_tumor/ -type d"
            ]
        },
        {
            "cell_type": "markdown",
            "metadata": {},
            "source": [
                "### 使用下载的真实数据集训练\n",
                "\n",
                "根据你选择的数据集，更新配置并重新训练："
            ]
        },
        {
            "cell_type": "code",
            "execution_count": null,
            "metadata": {},
            "outputs": [],
            "source": [
                "# 选择你下载的数据集\n",
                "DATASET_CHOICE = 'chest_xray'  # 可选: 'chest_xray', 'covid19', 'isic', 'brain_tumor'\n",
                "\n",
                "if DATASET_CHOICE == 'chest_xray':\n",
                "    config.DATA['data_dir'] = './data/chest_xray/chest_xray/train'\n",
                "    config.MODEL['num_classes'] = 2  # Normal / Pneumonia\n",
                "    print(\"[OK] 使用胸部 X 光肺炎数据集\")\n",
                "    \n",
                "elif DATASET_CHOICE == 'covid19':\n",
                "    config.DATA['data_dir'] = './data/covid19/COVID-19_Radiography_Dataset'\n",
                "    config.MODEL['num_classes'] = 4  # COVID / Normal / Viral / Opacity\n",
                "    print(\"[OK] 使用 COVID-19 数据集\")\n",
                "    \n",
                "elif DATASET_CHOICE == 'isic':\n",
                "    config.DATA['data_dir'] = './data/isic/images'\n",
                "    config.DATA['labels_file'] = './data/isic/labels.csv'\n",
                "    config.MODEL['num_classes'] = 8  # 8 种皮肤病变\n",
                "    print(\"[OK] 使用 ISIC 皮肤病变数据集\")\n",
                "    \n",
                "elif DATASET_CHOICE == 'brain_tumor':\n",
                "    config.DATA['data_dir'] = './data/brain_tumor/Training'\n",
                "    config.MODEL['num_classes'] = 4  # 4 种脑肿瘤类型\n",
                "    print(\"[OK] 使用脑肿瘤 MRI 数据集\")\n",
                "\n",
                "# 调整训练参数\n",
                "config.TRAIN['epochs'] = 30  # 真实数据需要更多 epoch\n",
                "config.TRAIN['batch_size'] = 32\n",
                "config.MODEL['backbone'] = 'resnet50'  # 使用更快的 backbone\n",
                "\n",
                "print(f\"\\n配置更新:\")\n",
                "print(f\"数据目录: {config.DATA['data_dir']}\")\n",
                "print(f\"类别数: {config.MODEL['num_classes']}\")\n",
                "print(f\"训练轮数: {config.TRAIN['epochs']}\")\n",
                "print(f\"Backbone: {config.MODEL['backbone']}\")\n",
                "\n",
                "# 现在可以重新运行训练 cell（4.3）来使用真实数据训练"
            ]
        },
        {
            "cell_type": "markdown",
            "metadata": {},
            "source": [
                "## 8. 实验不同的配置\n",
                "\n",
                "### 8.1 尝试不同的 Backbone"
            ]
        },
        {
            "cell_type": "code",
            "execution_count": null,
            "metadata": {},
            "outputs": [],
            "source": [
                "# 经典架构（更快）\n",
                "backbones_classic = ['resnet34', 'resnet50', 'resnet101']\n",
                "\n",
                "# 现代架构（更准确）\n",
                "backbones_modern = [\n",
                "    'convnext_tiny', 'convnext_small', 'convnext_base',\n",
                "    'swin_tiny', 'swin_small',\n",
                "    'efficientnetv2_s', 'efficientnetv2_m'\n",
                "]\n",
                "\n",
                "# 选择一个 backbone 进行实验\n",
                "config.MODEL['backbone'] = 'convnext_small'\n",
                "print(f\"使用 backbone: {config.MODEL['backbone']}\")"
            ]
        },
        {
            "cell_type": "markdown",
            "metadata": {},
            "source": [
                "### 8.2 调整训练参数"
            ]
        },
        {
            "cell_type": "code",
            "execution_count": null,
            "metadata": {},
            "outputs": [],
            "source": [
                "# 实验不同的学习率\n",
                "learning_rates = [1e-5, 3e-5, 1e-4, 3e-4]\n",
                "\n",
                "# 实验不同的 batch size\n",
                "batch_sizes = [8, 16, 32, 64]\n",
                "\n",
                "# 选择配置\n",
                "config.TRAIN['learning_rate'] = 1e-4\n",
                "config.TRAIN['batch_size'] = 16\n",
                "\n",
                "print(f\"学习率: {config.TRAIN['learning_rate']}\")\n",
                "print(f\"Batch size: {config.TRAIN['batch_size']}\")"
            ]
        },
        {
            "cell_type": "markdown",
            "metadata": {},
            "source": [
                "## 9. 故障排除\n",
                "\n",
                "### GPU 内存不足"
            ]
        },
        {
            "cell_type": "code",
            "execution_count": null,
            "metadata": {},
            "outputs": [],
            "source": [
                "# 清理 GPU 内存\n",
                "import gc\n",
                "torch.cuda.empty_cache()\n",
                "gc.collect()\n",
                "\n",
                "# 减小 batch size\n",
                "config.TRAIN['batch_size'] = 8\n",
                "\n",
                "# 使用梯度累积\n",
                "config.TRAIN['gradient_accumulation_steps'] = 4\n",
                "\n",
                "print(\"[OK] GPU 内存已清理\")"
            ]
        },
        {
            "cell_type": "markdown",
            "metadata": {},
            "source": [
                "## 总结\n",
                "\n",
                "这个 notebook 展示了如何在 Google Colab 上使用 HybridMedNet：\n",
                "\n",
                "1. ✅ 环境设置和依赖安装\n",
                "2. ✅ 使用示例数据快速训练\n",
                "3. ✅ 模型评估和可视化\n",
                "4. ✅ 预测新图像\n",
                "5. ✅ 使用真实医学数据集（可选）\n",
                "\n",
                "### 下一步\n",
                "\n",
                "- 尝试不同的 backbone 架构\n",
                "- 调整超参数优化性能\n",
                "- 使用真实医学数据���训练\n",
                "- 部署模型为 Web 服务\n",
                "\n",
                "### 资源链接\n",
                "\n",
                "- [项目 GitHub](https://github.com/alltobebetter/HybridMedNet)\n",
                "- [完整文档](https://github.com/alltobebetter/HybridMedNet/blob/main/README.md)\n",
                "- [快速开始指南](https://github.com/alltobebetter/HybridMedNet/blob/main/QUICKSTART.md)"
            ]
        }
    ],
    "metadata": {
        "accelerator": "GPU",
        "colab": {
            "gpuType": "T4",
            "provenance": []
        },
        "kernelspec": {
            "display_name": "Python 3",
            "name": "python3"
        },
        "language_info": {
            "name": "python"
        }
    },
    "nbformat": 4,
    "nbformat_minor": 0
}